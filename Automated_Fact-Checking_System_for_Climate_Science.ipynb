{
  "cells": [
    {
      "cell_type": "markdown",
      "metadata": {
        "id": "6po98qVA8bJD"
      },
      "source": [
        "# 1.DataSet Processing"
      ]
    },
    {
      "cell_type": "code",
      "execution_count": 1,
      "metadata": {
        "colab": {
          "base_uri": "https://localhost:8080/"
        },
        "id": "qvff21Hv8zjk",
        "outputId": "b3198eed-850f-4337-92cc-f0aace0b5b04"
      },
      "outputs": [
        {
          "name": "stdout",
          "output_type": "stream",
          "text": [
            "Requirement already satisfied: nltk in /usr/local/lib/python3.10/dist-packages (3.8.1)\n",
            "Requirement already satisfied: click in /usr/local/lib/python3.10/dist-packages (from nltk) (8.1.7)\n",
            "Requirement already satisfied: joblib in /usr/local/lib/python3.10/dist-packages (from nltk) (1.4.2)\n",
            "Requirement already satisfied: regex>=2021.8.3 in /usr/local/lib/python3.10/dist-packages (from nltk) (2023.12.25)\n",
            "Requirement already satisfied: tqdm in /usr/local/lib/python3.10/dist-packages (from nltk) (4.66.4)\n"
          ]
        }
      ],
      "source": [
        "!pip install nltk"
      ]
    },
    {
      "cell_type": "code",
      "execution_count": 1,
      "metadata": {
        "colab": {
          "base_uri": "https://localhost:8080/"
        },
        "id": "3XEdUB5AHmpe",
        "outputId": "d2574b13-f810-4fa1-b372-0003eacd061a"
      },
      "outputs": [
        {
          "name": "stdout",
          "output_type": "stream",
          "text": [
            "Mounted at /content/drive\n"
          ]
        }
      ],
      "source": [
        "from google.colab import drive\n",
        "drive.mount('/content/drive')"
      ]
    },
    {
      "cell_type": "code",
      "execution_count": 2,
      "metadata": {
        "colab": {
          "base_uri": "https://localhost:8080/"
        },
        "id": "Kd9fuTeZCYog",
        "outputId": "940ce8b2-7a5b-4af8-aafa-f88ff4947340"
      },
      "outputs": [
        {
          "name": "stdout",
          "output_type": "stream",
          "text": [
            "cuda\n"
          ]
        }
      ],
      "source": [
        "import torch\n",
        "device = torch.device(\"cuda\" if torch.cuda.is_available() else \"cpu\")\n",
        "print(device)"
      ]
    },
    {
      "cell_type": "code",
      "execution_count": 3,
      "metadata": {
        "colab": {
          "base_uri": "https://localhost:8080/"
        },
        "id": "AuK7R4OVs9im",
        "outputId": "8725b740-990c-4680-ec70-31f50da30158"
      },
      "outputs": [
        {
          "name": "stderr",
          "output_type": "stream",
          "text": [
            "[nltk_data] Downloading package punkt to /root/nltk_data...\n",
            "[nltk_data]   Unzipping tokenizers/punkt.zip.\n",
            "[nltk_data] Downloading package stopwords to /root/nltk_data...\n",
            "[nltk_data]   Unzipping corpora/stopwords.zip.\n"
          ]
        },
        {
          "name": "stdout",
          "output_type": "stream",
          "text": [
            "Load the training data...\n",
            "Preprocessing started....\n",
            "Convert the claim training text into tokens...\n",
            "Convert the evidence training text into tokens...\n",
            "Create vocabulary\n",
            "Convert the claim and evidence to indices.\n",
            "Convert the claim text to tensor...\n",
            "Add padding to the claim text...\n",
            "Preprocessing done!!!\n"
          ]
        }
      ],
      "source": [
        "import json\n",
        "import nltk\n",
        "from nltk.tokenize import word_tokenize\n",
        "import pandas as pd\n",
        "import torch\n",
        "import torch.nn as nn\n",
        "import re\n",
        "from nltk.corpus import stopwords\n",
        "from torch.nn.utils.rnn import pad_sequence\n",
        "\n",
        "nltk.download('punkt')\n",
        "nltk.download('stopwords')\n",
        "\n",
        "def load_data(filePath):\n",
        "    with open(filePath, 'r') as file:\n",
        "        data = json.load(file)\n",
        "    return data\n",
        "\n",
        "def tokenize(text):\n",
        "    text_lowercase = text.lower()\n",
        "    text_lowercase = re.sub(r'[^\\w\\s]', '', text_lowercase)\n",
        "    tokenize_text = word_tokenize(text_lowercase)\n",
        "    # stop_words = set(stopwords.words('english'))\n",
        "    # tokens_without_stopwords = [token for token in tokenize_text if token not in stop_words]\n",
        "    return tokenize_text\n",
        "\n",
        "def create_vocabulary(claim_tokenized,evidence_tokenized):\n",
        "    vocabulary = {'<pad>': 0, 'UNKNOWN_WORD':1}\n",
        "    for tokenized_claims in claim_tokenized.values():\n",
        "        for token in tokenized_claims:\n",
        "            if token not in vocabulary:\n",
        "                vocabulary[token] = len(vocabulary)\n",
        "\n",
        "    for tokenized_evidence in evidence_tokenized.values():\n",
        "        for token in tokenized_evidence:\n",
        "            if token not in vocabulary:\n",
        "                vocabulary[token] = len(vocabulary)\n",
        "    return vocabulary\n",
        "\n",
        "def preprocess_data(train_claims_data,evidence_data):\n",
        "\n",
        "    claim_tokenized = {}\n",
        "    evidence_tokenized = {}\n",
        "\n",
        "    print(\"Convert the claim training text into tokens...\")\n",
        "    for claim_id, claim in train_claims_data.items():\n",
        "      tokenize_claim_text = tokenize(claim['claim_text'])\n",
        "      claim_tokenized[claim_id] = tokenize_claim_text\n",
        "\n",
        "    print(\"Convert the evidence training text into tokens...\")\n",
        "    for evidence_id, evidence in evidence_data.items():\n",
        "      tokenize_evidence_text = tokenize(evidence)\n",
        "      evidence_tokenized[evidence_id]  = tokenize_evidence_text\n",
        "\n",
        "    print(\"Create vocabulary\")\n",
        "    vocabulary = create_vocabulary(claim_tokenized,evidence_tokenized)\n",
        "\n",
        "    #Convert claim and evidence text to indices list\n",
        "    print(\"Convert the claim and evidence to indices.\")\n",
        "    claim_as_indices = [[vocabulary[token] for token in claim_text] for claim_text in claim_tokenized.values()]\n",
        "    evidence_as_indices = [[vocabulary[token] for token in evidence_text] for evidence_text in evidence_tokenized.values()]\n",
        "\n",
        "    #Converting the claim indices to tensor\n",
        "    print(\"Convert the claim text to tensor...\")\n",
        "    claim_as_tensors = [torch.tensor(sentence, dtype=torch.long) for sentence in claim_as_indices]\n",
        "\n",
        "    #Padding the tensors\n",
        "    print(\"Add padding to the claim text...\")\n",
        "    claims_padded = pad_sequence(claim_as_tensors, batch_first=True, padding_value=0)\n",
        "\n",
        "    return claim_tokenized,evidence_tokenized,vocabulary,evidence_as_indices,claims_padded\n",
        "\n",
        "print(\"Load the training data...\")\n",
        "data_path = \"/content/drive/MyDrive/nlp_project/data\"\n",
        "train_claims_data = load_data(data_path+'/train-claims.json')\n",
        "evidence_data = load_data(data_path+'/evidence.json')\n",
        "\n",
        "print(\"Preprocessing started....\")\n",
        "claim_tokenized,evidence_tokenized,vocabulary,evidence_as_indices,claims_padded = preprocess_data(train_claims_data,evidence_data)\n",
        "print(\"Preprocessing done!!!\")"
      ]
    },
    {
      "cell_type": "code",
      "execution_count": 4,
      "metadata": {
        "colab": {
          "base_uri": "https://localhost:8080/"
        },
        "id": "S9KfcZMCOiyR",
        "outputId": "a4728a0f-2177-41a8-8032-0e22eec114d4"
      },
      "outputs": [
        {
          "name": "stdout",
          "output_type": "stream",
          "text": [
            "Create claim id and index relation...\n",
            "Create evidence id and index relation...\n"
          ]
        }
      ],
      "source": [
        "print(\"Create claim id and index relation...\")\n",
        "claim_id_index = {claim_id:index for index, claim_id in enumerate(train_claims_data)}\n",
        "print(\"Create evidence id and index relation...\")\n",
        "evidence_id_index = {evidence_id:index for index, evidence_id in enumerate(evidence_data)}\n",
        "\n",
        "max_len_evidence = max(len(evidence) for evidence in evidence_as_indices)\n",
        "max_padding_length_train_claims = len(claims_padded[0])"
      ]
    },
    {
      "cell_type": "code",
      "execution_count": 5,
      "metadata": {
        "id": "qWzmNS_hHWCq"
      },
      "outputs": [],
      "source": [
        "def remove_stop_words_from_data(tokenize_text):\n",
        "  stop_words = set(stopwords.words('english'))\n",
        "  tokens_without_stopwords = []\n",
        "  for sentence in tokenize_text:\n",
        "    tokens = [token for token in sentence if token not in stop_words]\n",
        "    tokens_without_stopwords.append(tokens)\n",
        "  return tokens_without_stopwords"
      ]
    },
    {
      "cell_type": "code",
      "execution_count": 6,
      "metadata": {
        "id": "KoN00jzjDQDX"
      },
      "outputs": [],
      "source": [
        "def get_key_from_value(dict,target_value):\n",
        "  for key, value in dict.items():\n",
        "    if value == target_value:\n",
        "      return key"
      ]
    },
    {
      "cell_type": "code",
      "execution_count": 7,
      "metadata": {
        "id": "w1yu3gCSRod_"
      },
      "outputs": [],
      "source": [
        "def getPaddedEvidence(evidence_list):\n",
        "    evidence_as_tensors = [torch.tensor(sentence, dtype=torch.long) for sentence in evidence_list]\n",
        "    evidence_padded = pad_sequence(evidence_as_tensors, batch_first=True, padding_value=0)\n",
        "    if evidence_padded.size(1) < max_len_evidence:\n",
        "      additional_padding = max_len_evidence - evidence_padded.size(1)\n",
        "      padding_tensor = torch.zeros((evidence_padded.size(0), additional_padding), dtype=evidence_padded.dtype)\n",
        "      final_evidence_padded = torch.cat((evidence_padded, padding_tensor), dim=1)\n",
        "    return final_evidence_padded"
      ]
    },
    {
      "cell_type": "code",
      "execution_count": 8,
      "metadata": {
        "id": "F5r4NE-L3UhN"
      },
      "outputs": [],
      "source": [
        "def get_evidence_from_claim_id(claim_id):\n",
        "    evidences = train_claims_data[claim_id][\"evidences\"]\n",
        "    evidence_index = [evidence_id_index[evidence] for evidence in evidences]\n",
        "    selected_evidences = [evidence_as_indices[indices] for indices in evidence_index]\n",
        "    evidence_padded = getPaddedEvidence(selected_evidences)\n",
        "    return evidence_padded"
      ]
    },
    {
      "cell_type": "markdown",
      "metadata": {
        "id": "fAwA6BiDk22o"
      },
      "source": [
        "Latent Semantic Analysis"
      ]
    },
    {
      "cell_type": "code",
      "execution_count": 9,
      "metadata": {
        "colab": {
          "base_uri": "https://localhost:8080/"
        },
        "id": "NkWvdFyHrbB0",
        "outputId": "fc00d927-cfb1-48a6-f112-c37014c90fae"
      },
      "outputs": [
        {
          "name": "stderr",
          "output_type": "stream",
          "text": [
            "[nltk_data] Downloading package stopwords to /root/nltk_data...\n",
            "[nltk_data]   Package stopwords is already up-to-date!\n"
          ]
        }
      ],
      "source": [
        "from nltk.corpus import stopwords\n",
        "import spacy\n",
        "\n",
        "nltk.download('stopwords')\n",
        "stop_words = set(stopwords.words('english'))\n",
        "nlp = spacy.load('en_core_web_sm', disable=['parser', 'ner'])\n",
        "\n",
        "def remove_stop_words_lemmatize(texts,batch_size=2000):\n",
        "  processed_text = []\n",
        "  for document in nlp.pipe(texts,batch_size=batch_size):\n",
        "    final_tokens = [token.lemma_ for token in document if token.is_alpha and token.lemma_ not in stop_words]\n",
        "    processed_text.append(' '.join(final_tokens))\n",
        "  return processed_text\n",
        "\n",
        "#Create tf-idf vector for evidence and claims dataset\n",
        "text_evidence = list(evidence_data.values())\n",
        "text_claim = [claim['claim_text'] for claim_id, claim in train_claims_data.items()]\n",
        "\n",
        "sentence_corpus = text_evidence + text_claim\n",
        "remove_stop_words_lemmatize_corpus = remove_stop_words_lemmatize(sentence_corpus)"
      ]
    },
    {
      "cell_type": "code",
      "execution_count": 10,
      "metadata": {
        "colab": {
          "base_uri": "https://localhost:8080/"
        },
        "id": "Ah2KqNGy23Wi",
        "outputId": "66edff57-da21-49f6-eca7-e748242280ae"
      },
      "outputs": [
        {
          "name": "stdout",
          "output_type": "stream",
          "text": [
            "(1210055, 60000)\n"
          ]
        }
      ],
      "source": [
        "from sklearn.feature_extraction.text import TfidfVectorizer\n",
        "from sklearn.decomposition import TruncatedSVD\n",
        "tfidf_vectorizer = TfidfVectorizer(stop_words = 'english',max_features=60000)\n",
        "tfidf_evidence_claim_matrix = tfidf_vectorizer.fit_transform(remove_stop_words_lemmatize_corpus)\n",
        "print(tfidf_evidence_claim_matrix.shape)"
      ]
    },
    {
      "cell_type": "code",
      "execution_count": 11,
      "metadata": {
        "id": "Cq9ds-8KivB6"
      },
      "outputs": [],
      "source": [
        "#Apply singular decompositon to matrix\n",
        "n_components = 100\n",
        "latent_semantic_model = TruncatedSVD(n_components=n_components)\n",
        "latent_semantic_model_matrix = latent_semantic_model.fit_transform(tfidf_evidence_claim_matrix)"
      ]
    },
    {
      "cell_type": "code",
      "execution_count": 12,
      "metadata": {
        "id": "Q56rRGGDL8eF"
      },
      "outputs": [],
      "source": [
        "from sklearn.metrics.pairwise import cosine_similarity\n",
        "#Function to get top evidences based on a claim\n",
        "def getTopKEvidences(tfidf_evidence_claim_matrix,latent_semantic_model_matrix,claim_text,evidences,k=5):\n",
        "  vector_claim = tfidf_vectorizer.transform([claim_text])\n",
        "  vector_claim = latent_semantic_model.transform(vector_claim)[0]\n",
        "  vector_evidence = latent_semantic_model_matrix[:len(evidences)]\n",
        "\n",
        "  #Using cosine similarity to calculate the similarities\n",
        "  similarities = cosine_similarity([vector_claim], vector_evidence)[0]\n",
        "\n",
        "  #Get top k evidences\n",
        "  top_k_indices = similarities.argsort()[-k:][::-1]\n",
        "  top_k_indices = top_k_indices.copy()\n",
        "  selected_evidences = [evidence_as_indices[indices] for indices in top_k_indices]\n",
        "  top_k_evidences_padded = getPaddedEvidence(selected_evidences)\n",
        "\n",
        "  return top_k_evidences_padded, top_k_indices\n"
      ]
    },
    {
      "cell_type": "markdown",
      "metadata": {
        "id": "1FA2ao2l8hOg"
      },
      "source": [
        "\n",
        "# 2. Model Implementation\n",
        "(You can add as many code blocks and text blocks as you need. However, YOU SHOULD NOT MODIFY the section title)"
      ]
    },
    {
      "cell_type": "markdown",
      "metadata": {
        "id": "t74TNUcY3UhO"
      },
      "source": []
    },
    {
      "cell_type": "markdown",
      "metadata": {
        "id": "QIEqDDT78q39"
      },
      "source": [
        "LSTM with word level attention"
      ]
    },
    {
      "cell_type": "code",
      "execution_count": 13,
      "metadata": {
        "id": "ssBqeXtP3UhP"
      },
      "outputs": [],
      "source": [
        "import torch.nn as nn\n",
        "import torch.nn.functional as functional\n",
        "import torch.optim as optim\n",
        "import os\n",
        "import matplotlib.pyplot as plt\n",
        "\n",
        "class WordLevelClaimEvidenceAttention(nn.Module):\n",
        "    def __init__(self,vocabulary_size,embedding_dimension,hidden_dimension,num_of_layers,dropout):\n",
        "        super(WordLevelClaimEvidenceAttention, self).__init__()\n",
        "        self.embedding = nn.Embedding(vocabulary_size, embedding_dimension)\n",
        "        self.claim_lstm = nn.LSTM(embedding_dimension, hidden_dimension, num_of_layers, dropout=dropout, batch_first=True)\n",
        "        self.evidence_lstm = nn.LSTM(embedding_dimension, hidden_dimension, num_of_layers, dropout=dropout, batch_first=True)\n",
        "        self.attention_ffnn = nn.Linear(hidden_dimension, 1)\n",
        "        self.final_lstm = nn.LSTM(hidden_dimension * 2, hidden_dimension, num_of_layers, dropout=dropout, batch_first=True)\n",
        "        self.ffnn = nn.Linear(hidden_dimension, 4)\n",
        "\n",
        "    def forward(self, claims, evidence):\n",
        "\n",
        "        # Getting the Embeddings\n",
        "        claims_embedded = self.embedding(claims).to(device)\n",
        "        evidence_embedded = self.embedding(evidence).to(device)\n",
        "        # Output for claims and evidence embeddings using LSTM\n",
        "        lstm_claims_output, _ = self.claim_lstm(claims_embedded)\n",
        "        lstm_evidence_output, _ = self.evidence_lstm(evidence_embedded)\n",
        "        lstm_claims_output_reshape = lstm_claims_output.expand(lstm_evidence_output.size(0),-1,-1)\n",
        "\n",
        "        # Attention mechanism to get attention_score\n",
        "        attention_score = torch.bmm(lstm_claims_output_reshape, lstm_evidence_output.transpose(1, 2))\n",
        "        # Applying softmax on attention_scores to get normalized attention weights\n",
        "        attention_weights = functional.softmax(attention_score, dim=-1)\n",
        "\n",
        "        # Calculating context vectors as a weighted sum of evidence vectors\n",
        "        context_vectors = torch.bmm(attention_weights, lstm_evidence_output)\n",
        "        # Aggregation of context vectors done on basis of attention\n",
        "        context_vectors_attention_scores = self.attention_ffnn(context_vectors).squeeze(-1)\n",
        "        context_vectors_attention_weights_agg = functional.softmax(context_vectors_attention_scores, dim=0)\n",
        "        context_vector_attention_aggregated = torch.sum(context_vectors_attention_weights_agg.unsqueeze(-1) * context_vectors, dim=0)\n",
        "        # Concatenated with claim\n",
        "        concatenated_represenatation = torch.cat((lstm_claims_output.squeeze(0), context_vector_attention_aggregated), dim=-1)\n",
        "\n",
        "        # Classification using the final representation using claim and evidence\n",
        "        final_output_lstm, (hidden_state, cell_state) = self.final_lstm(concatenated_represenatation.unsqueeze(0))\n",
        "        final_representation = hidden_state[-1]\n",
        "        output_logits = self.ffnn(final_representation)\n",
        "        return output_logits, attention_weights"
      ]
    },
    {
      "cell_type": "code",
      "execution_count": 14,
      "metadata": {
        "id": "xRfsN-IO3UhP"
      },
      "outputs": [],
      "source": [
        "def model_train(model, train_claims_data, claims_padded, epochs=10, learning_rate=0.0005):\n",
        "    cross_entropy_loss_function = nn.CrossEntropyLoss()\n",
        "    adam_optimizer = torch.optim.Adam(model.parameters(), lr=learning_rate)\n",
        "\n",
        "    loss_training = []\n",
        "    accuracy_training = []\n",
        "\n",
        "    for epoch in range(epochs):\n",
        "        count=0\n",
        "        corr=0\n",
        "        model.train()\n",
        "        overall_loss = 0\n",
        "        for claim_id in train_claims_data:\n",
        "            claim_index = claim_id_index[claim_id]\n",
        "            claim_tensor_padded = claims_padded[claim_index].unsqueeze(0).to(device)\n",
        "            evidence_list = get_evidence_from_claim_id(claim_id)\n",
        "            evidence_tensor_padded_list = torch.cat([evidence.unsqueeze(0).to(device) for evidence in evidence_list])\n",
        "\n",
        "            output_logits, attention_weights = model(claim_tensor_padded.to(device), evidence_tensor_padded_list.to(device))\n",
        "\n",
        "            original_label = train_claims_data[claim_id]['claim_label']\n",
        "            target_label = torch.tensor([dict_class_to_numbers[original_label]], dtype=torch.long).to(device)\n",
        "            class_pred=torch.argmax(output_logits,dim=1).to(device)\n",
        "\n",
        "            # Compute loss\n",
        "            loss = cross_entropy_loss_function(output_logits, target_label)\n",
        "            overall_loss += loss.item()\n",
        "\n",
        "            # Backward pass and optimization\n",
        "            adam_optimizer.zero_grad()\n",
        "            loss.backward()\n",
        "            adam_optimizer.step()\n",
        "\n",
        "        average_loss_in_epoch = overall_loss / len(train_claims_data)\n",
        "        loss_training.append(average_loss_in_epoch)\n",
        "\n",
        "        print(f'Epoch [{epoch+1}/{epochs}], Loss: {average_loss_in_epoch:.4f}')\n",
        "\n",
        "        model_folder_path = '/content/drive/MyDrive/nlp_project/model'\n",
        "        model_save_path = os.path.join(model_folder_path, f'claim_evidence_model_{epoch+1}.pth')\n",
        "        torch.save(model.state_dict(), model_save_path)\n",
        "\n",
        "    #Code to plot graph for loss\n",
        "    range_of_epochs = range(1, epochs+1)\n",
        "\n",
        "    plt.figure(figsize=(12, 6))\n",
        "\n",
        "    plt.subplot(1, 2, 1)\n",
        "    plt.plot(range_of_epochs, loss_training, label='Training Loss')\n",
        "    plt.xlabel('Epochs')\n",
        "    plt.ylabel('Loss')\n",
        "    plt.legend(loc='upper right')\n",
        "    plt.title('Training Loss')\n",
        "\n",
        "    plt.show()"
      ]
    },
    {
      "cell_type": "markdown",
      "metadata": {
        "id": "EzGuzHPE87Ya"
      },
      "source": [
        "# 3.Testing and Evaluation\n",
        "(You can add as many code blocks and text blocks as you need. However, YOU SHOULD NOT MODIFY the section title)"
      ]
    },
    {
      "cell_type": "code",
      "execution_count": 15,
      "metadata": {
        "id": "IGDPDR-Vx7ok"
      },
      "outputs": [],
      "source": [
        "def preprocess_test(dev_claim_data,max_padding_length):\n",
        "\n",
        "  dev_claim_tokenized = {}\n",
        "  padding_value = 0\n",
        "\n",
        "  print(\"Convert the claim text into tokens...\")\n",
        "  for claim_id, claim in dev_claim_data.items():\n",
        "      dev_claim_tokenized[claim_id] = tokenize(claim['claim_text'])\n",
        "\n",
        "  #Convert dev claim text to indices list\n",
        "  print(\"Converting claim text to indices list\")\n",
        "  dev_claim_as_indices = [[vocabulary.get(token,vocabulary['UNKNOWN_WORD']) for token in claim_text] for claim_text in dev_claim_tokenized.values()]\n",
        "\n",
        "  #Convert the dev claims to tensor after truncating\n",
        "  print(\"Converting the claims to tensor after truncating\")\n",
        "  truncated_dev_claims = [sentence[:max_padding_length] for sentence in dev_claim_as_indices]\n",
        "  truncated_dev_tensor = [torch.tensor(sentences, dtype=torch.long) for sentences in truncated_dev_claims]\n",
        "\n",
        "  #Pad the dev claims to maximum length\n",
        "  print(\"Padding the claims to maximum length\")\n",
        "  padded_dev_claims = [torch.cat([sentence, torch.tensor([padding_value] * (max_padding_length - len(sentence)), dtype=torch.long)]) if len(sentence) < max_padding_length else sentence for sentence in truncated_dev_tensor]\n",
        "  padded_dev_claims = torch.stack(padded_dev_claims, dim=0)\n",
        "  return padded_dev_claims"
      ]
    },
    {
      "cell_type": "code",
      "execution_count": 16,
      "metadata": {
        "id": "6ZVeNYIH9IaL"
      },
      "outputs": [],
      "source": [
        "from sklearn.metrics import f1_score, accuracy_score\n",
        "import os\n",
        "import json\n",
        "from google.colab import files\n",
        "\n",
        "\n",
        "def model_evaluate_dev(model,dev_claim_data,claims_padded,epochs=10):\n",
        "\n",
        "    accuracy_per_epoch = []\n",
        "    loss_per_epoch = []\n",
        "    final_result_all_epoch = {}\n",
        "\n",
        "    for epoch in range(0,epochs):\n",
        "\n",
        "      model_folder_path = '/content/drive/MyDrive/nlp_project/model/'\n",
        "      model_save_path = os.path.join(model_folder_path, f'claim_evidence_model_{epoch+1}.pth')\n",
        "      model.load_state_dict(torch.load(model_save_path))\n",
        "      cross_entropy_loss_function = nn.CrossEntropyLoss()\n",
        "      model.eval()\n",
        "\n",
        "      overall_loss = 0\n",
        "      count=0\n",
        "      corr=0\n",
        "      targets_all = []\n",
        "      predicted_all = []\n",
        "      final_result = {}\n",
        "      with torch.no_grad():\n",
        "          for claim_id in dev_claim_data:\n",
        "              result = {}\n",
        "              claim_index = dev_claim_id_index[claim_id]\n",
        "              claim_tensor_padded = claims_padded[claim_index].unsqueeze(0).to(device)\n",
        "              evidence_tensor_padded_list,top_evidences_indices = getTopKEvidences(tfidf_evidence_claim_matrix,latent_semantic_model_matrix,dev_claim_data[claim_id]['claim_text'],evidence_data,k=3)\n",
        "              evidence_tensor_padded_list = torch.cat([evidence.unsqueeze(0).to(device) for evidence in evidence_tensor_padded_list],dim=0)\n",
        "\n",
        "              output_logits, attention_weights = model(claim_tensor_padded, evidence_tensor_padded_list)\n",
        "\n",
        "              target_text_label = dev_claim_data[claim_id]['claim_label']\n",
        "              target_label = torch.tensor([dict_class_to_numbers[target_text_label]], dtype=torch.long).to(device)\n",
        "              class_pred=torch.argmax(output_logits,dim=1).to(device)\n",
        "\n",
        "              final_result[claim_id] = {\n",
        "                  \"claim_text\":dev_claim_data[claim_id][\"claim_text\"],\n",
        "                  \"claim_label\":get_key_from_value(dict_class_to_numbers,class_pred),\n",
        "                  \"evidences\":[get_key_from_value(evidence_id_index,indices) for indices in top_evidences_indices]\n",
        "              }\n",
        "\n",
        "              if class_pred==target_label:\n",
        "                corr+=1\n",
        "                count+=1\n",
        "              else:\n",
        "                count+=1\n",
        "\n",
        "              # Computing loss\n",
        "              loss = cross_entropy_loss_function(output_logits, target_label)\n",
        "              overall_loss += loss.item()\n",
        "\n",
        "              targets_all.extend(target_label.cpu().tolist())\n",
        "              predicted_all.extend(class_pred.cpu().tolist())\n",
        "      print(f'Epoch [{epoch+1}/{epochs}] completed')\n",
        "\n",
        "\n",
        "\n",
        "      accuracy = corr/count\n",
        "      accuracy_per_epoch.append(accuracy)\n",
        "      avg_loss = overall_loss / len(train_claims_data)\n",
        "      loss_per_epoch.append(avg_loss)\n",
        "\n",
        "      if (not any(final_result_all_epoch)) or (accuracy > accuracy_per_epoch[epoch-1]):\n",
        "        final_result_all_epoch = final_result.copy()\n",
        "\n",
        "\n",
        "\n",
        "    #Code to plot graph for loss\n",
        "    range_of_epochs = range(1, epochs+1)\n",
        "\n",
        "    plt.figure(figsize=(12, 6))\n",
        "\n",
        "    plt.subplot(1, 2, 1)\n",
        "    plt.plot(range_of_epochs, loss_per_epoch, label='Validation Loss')\n",
        "    plt.xlabel('Epochs')\n",
        "    plt.ylabel('Loss')\n",
        "    plt.legend(loc='upper right')\n",
        "    plt.title('Validation Loss')\n",
        "\n",
        "    plt.subplot(1, 2, 1)\n",
        "    plt.plot(range_of_epochs, accuracy_per_epoch, label='Validation Accuracy')\n",
        "    plt.xlabel('Epochs')\n",
        "    plt.ylabel('Accuracy')\n",
        "    plt.legend(loc='upper right')\n",
        "    plt.title('Validation Accuracy')\n",
        "\n",
        "    plt.show()\n",
        "\n",
        "    max_accuracy_epoch = accuracy_per_epoch.index(max(accuracy_per_epoch))\n",
        "    print(f'Epoch with maximum accuracy: {max_accuracy_epoch}')\n",
        "    print(f'Evaluation Loss: {loss_per_epoch[max_accuracy_epoch]:.4f}')\n",
        "    print(f'Evaluation Accuracy:{accuracy_per_epoch[max_accuracy_epoch]:.4f}')\n",
        "    print(\"Accuracy in all epocs:\",accuracy_per_epoch)\n",
        "    print(\"The epoch with maximum accuracy is:\",max_accuracy_epoch+1)\n",
        "\n",
        "    final_result_dev = json.dumps(final_result_all_epoch)\n",
        "    file_path = '/content/result.json'\n",
        "    with open(file_path, 'w') as file:\n",
        "      file.write(final_result_dev)\n",
        "\n",
        "    # Download the file to local system\n",
        "    files.download(file_path)\n",
        "\n"
      ]
    },
    {
      "cell_type": "code",
      "execution_count": 17,
      "metadata": {
        "id": "ksGXTk6b2f-M"
      },
      "outputs": [],
      "source": [
        "def model_evaluate_test(model,test_claim_data,claims_padded):\n",
        "\n",
        "    epoch = 0\n",
        "    model_folder_path = '/content/drive/MyDrive/nlp_project/model/'\n",
        "    model_save_path = os.path.join(model_folder_path, f'claim_evidence_model_{epoch+1}.pth')\n",
        "    model.load_state_dict(torch.load(model_save_path))\n",
        "    cross_entropy_loss_function = nn.CrossEntropyLoss()\n",
        "    model.eval()\n",
        "\n",
        "    overall_loss = 0\n",
        "    count=0\n",
        "    corr=0\n",
        "    targets_all = []\n",
        "    predicted_all = []\n",
        "    final_result = {}\n",
        "    with torch.no_grad():\n",
        "        for claim_id in test_claim_data:\n",
        "            result = {}\n",
        "            claim_index = test_claim_id_index[claim_id]\n",
        "            claim_tensor_padded = claims_padded[claim_index].unsqueeze(0).to(device)\n",
        "            evidence_tensor_padded_list,top_evidences_indices = getTopKEvidences(tfidf_evidence_claim_matrix,latent_semantic_model_matrix,test_claim_data[claim_id]['claim_text'],evidence_data,k=4)\n",
        "            evidence_tensor_padded_list = torch.cat([evidence.unsqueeze(0).to(device) for evidence in evidence_tensor_padded_list],dim=0)\n",
        "\n",
        "            output_logits, attention_weights = model(claim_tensor_padded, evidence_tensor_padded_list)\n",
        "            class_pred=torch.argmax(output_logits,dim=1).to(device)\n",
        "\n",
        "            final_result[claim_id] = {\n",
        "                \"claim_text\":test_claim_data[claim_id][\"claim_text\"],\n",
        "                \"claim_label\":get_key_from_value(dict_class_to_numbers,class_pred),\n",
        "                \"evidences\":[get_key_from_value(evidence_id_index,indices) for indices in top_evidences_indices]\n",
        "            }\n",
        "\n",
        "    final_result_test = json.dumps(final_result)\n",
        "    file_path = '/content/test-result.json'\n",
        "    with open(file_path, 'w') as file:\n",
        "      file.write(final_result_test)\n",
        "\n",
        "    # Download the file to local system\n",
        "    files.download(file_path)"
      ]
    },
    {
      "cell_type": "markdown",
      "metadata": {
        "id": "mefSOe8eTmGP"
      },
      "source": [
        "## Object Oriented Programming codes here\n",
        "\n",
        "*You can use multiple code snippets. Just add more if needed*"
      ]
    },
    {
      "cell_type": "markdown",
      "metadata": {
        "id": "418I_DpYNb6D"
      },
      "source": [
        "LSTM model creation with attention"
      ]
    },
    {
      "cell_type": "code",
      "execution_count": 18,
      "metadata": {
        "colab": {
          "base_uri": "https://localhost:8080/"
        },
        "id": "7QYNRG_XAI2V",
        "outputId": "184c045c-f138-4899-cc9b-142b5ad98680"
      },
      "outputs": [
        {
          "data": {
            "text/plain": [
              "WordLevelClaimEvidenceAttention(\n",
              "  (embedding): Embedding(707760, 50)\n",
              "  (claim_lstm): LSTM(50, 128, num_layers=2, batch_first=True, dropout=0.5)\n",
              "  (evidence_lstm): LSTM(50, 128, num_layers=2, batch_first=True, dropout=0.5)\n",
              "  (attention_ffnn): Linear(in_features=128, out_features=1, bias=True)\n",
              "  (final_lstm): LSTM(256, 128, num_layers=2, batch_first=True, dropout=0.5)\n",
              "  (ffnn): Linear(in_features=128, out_features=4, bias=True)\n",
              ")"
            ]
          },
          "execution_count": 18,
          "metadata": {},
          "output_type": "execute_result"
        }
      ],
      "source": [
        "dict_class_to_numbers = {\"SUPPORTS\": 0, \"REFUTES\": 1, \"NOT_ENOUGH_INFO\": 2, \"DISPUTED\": 3}\n",
        "vocabulary_size = len(vocabulary)\n",
        "embedding_dimension = 50\n",
        "hidden_dimension = 128\n",
        "num_of_layers = 2\n",
        "dropout = 0.5\n",
        "\n",
        "# Initiating LSTM model with attention.\n",
        "model = WordLevelClaimEvidenceAttention(vocabulary_size, embedding_dimension, hidden_dimension, num_of_layers, dropout)\n",
        "model.to(device)"
      ]
    },
    {
      "cell_type": "markdown",
      "metadata": {
        "id": "0V0LbZAbN0gT"
      },
      "source": [
        "Training the model"
      ]
    },
    {
      "cell_type": "code",
      "execution_count": 19,
      "metadata": {
        "colab": {
          "base_uri": "https://localhost:8080/",
          "height": 734
        },
        "id": "m6xQE5T1Na52",
        "outputId": "21035878-c473-48c0-adc1-12c863b526de"
      },
      "outputs": [
        {
          "name": "stdout",
          "output_type": "stream",
          "text": [
            "Epoch [1/10], Loss: 1.2761\n",
            "Epoch [2/10], Loss: 1.2660\n",
            "Epoch [3/10], Loss: 1.2269\n",
            "Epoch [4/10], Loss: 1.1921\n",
            "Epoch [5/10], Loss: 1.1712\n",
            "Epoch [6/10], Loss: 1.1697\n",
            "Epoch [7/10], Loss: 1.1486\n",
            "Epoch [8/10], Loss: 1.1345\n",
            "Epoch [9/10], Loss: 1.1276\n",
            "Epoch [10/10], Loss: 1.1288\n"
          ]
        },
        {
          "data": {
            "image/png": "[encoded data removed]",
            "text/plain": [
              "<Figure size 1200x600 with 1 Axes>"
            ]
          },
          "metadata": {},
          "output_type": "display_data"
        }
      ],
      "source": [
        "learning_rate = 0.001\n",
        "epochs =10\n",
        "model_train(model, train_claims_data, claims_padded, epochs, learning_rate)"
      ]
    },
    {
      "cell_type": "markdown",
      "metadata": {
        "id": "32zLtsXWPOiS"
      },
      "source": [
        "Preprocessing the dev set"
      ]
    },
    {
      "cell_type": "code",
      "execution_count": 20,
      "metadata": {
        "colab": {
          "base_uri": "https://localhost:8080/"
        },
        "id": "J-DJnGBpOAwl",
        "outputId": "ee04fb21-6efc-45c5-d09a-b858730c582b"
      },
      "outputs": [
        {
          "name": "stdout",
          "output_type": "stream",
          "text": [
            "Convert the claim text into tokens...\n",
            "Converting claim text to indices list\n",
            "Converting the claims to tensor after truncating\n",
            "Padding the claims to maximum length\n",
            "Create claim id and index relation for dev set...\n"
          ]
        }
      ],
      "source": [
        "dev_claim_data_path = \"/content/drive/MyDrive/nlp_project/data/dev-claims.json\"\n",
        "dev_claim_data = load_data(dev_claim_data_path)\n",
        "dev_claims_padded = preprocess_test(dev_claim_data,max_padding_length_train_claims)\n",
        "print(\"Create claim id and index relation for dev set...\")\n",
        "dev_claim_id_index = {claim_id:index for index, claim_id in enumerate(dev_claim_data)}"
      ]
    },
    {
      "cell_type": "markdown",
      "metadata": {
        "id": "huQsOUAnPTqX"
      },
      "source": [
        "Evaluating the dev set"
      ]
    },
    {
      "cell_type": "code",
      "execution_count": 21,
      "metadata": {
        "colab": {
          "base_uri": "https://localhost:8080/",
          "height": 839
        },
        "id": "kzUPKPPnONCP",
        "outputId": "d49fdc31-762a-421b-d0e9-78ce08aefcfe"
      },
      "outputs": [
        {
          "name": "stdout",
          "output_type": "stream",
          "text": [
            "Epoch [1/10] completed\n",
            "Epoch [2/10] completed\n",
            "Epoch [3/10] completed\n",
            "Epoch [4/10] completed\n",
            "Epoch [5/10] completed\n",
            "Epoch [6/10] completed\n",
            "Epoch [7/10] completed\n",
            "Epoch [8/10] completed\n",
            "Epoch [9/10] completed\n",
            "Epoch [10/10] completed\n"
          ]
        },
        {
          "data": {
            "image/png": "[encoded data removed]",
            "text/plain": [
              "<Figure size 1200x600 with 1 Axes>"
            ]
          },
          "metadata": {},
          "output_type": "display_data"
        },
        {
          "name": "stdout",
          "output_type": "stream",
          "text": [
            "Epoch with maximum accuracy: 0\n",
            "Evaluation Loss: 0.1602\n",
            "Evaluation Accuracy:0.4416\n",
            "Accuracy in all epocs: [0.44155844155844154, 0.44155844155844154, 0.44155844155844154, 0.37012987012987014, 0.4155844155844156, 0.42207792207792205, 0.4155844155844156, 0.4155844155844156, 0.4090909090909091, 0.3961038961038961]\n",
            "The epoch with maximum accuracy is: 1\n"
          ]
        },
        {
          "data": {
            "application/javascript": "\n    async function download(id, filename, size) {\n      if (!google.colab.kernel.accessAllowed) {\n        return;\n      }\n      const div = document.createElement('div');\n      const label = document.createElement('label');\n      label.textContent = `Downloading \"${filename}\": `;\n      div.appendChild(label);\n      const progress = document.createElement('progress');\n      progress.max = size;\n      div.appendChild(progress);\n      document.body.appendChild(div);\n\n      const buffers = [];\n      let downloaded = 0;\n\n      const channel = await google.colab.kernel.comms.open(id);\n      // Send a message to notify the kernel that we're ready.\n      channel.send({})\n\n      for await (const message of channel.messages) {\n        // Send a message to notify the kernel that we're ready.\n        channel.send({})\n        if (message.buffers) {\n          for (const buffer of message.buffers) {\n            buffers.push(buffer);\n            downloaded += buffer.byteLength;\n            progress.value = downloaded;\n          }\n        }\n      }\n      const blob = new Blob(buffers, {type: 'application/binary'});\n      const a = document.createElement('a');\n      a.href = window.URL.createObjectURL(blob);\n      a.download = filename;\n      div.appendChild(a);\n      a.click();\n      div.remove();\n    }\n  ",
            "text/plain": [
              "<IPython.core.display.Javascript object>"
            ]
          },
          "metadata": {},
          "output_type": "display_data"
        },
        {
          "data": {
            "application/javascript": "download(\"download_3ce553be-baf3-4788-ad76-af87c4debb85\", \"result.json\", 41040)",
            "text/plain": [
              "<IPython.core.display.Javascript object>"
            ]
          },
          "metadata": {},
          "output_type": "display_data"
        }
      ],
      "source": [
        "model_evaluate_dev(model,dev_claim_data,dev_claims_padded,epochs)"
      ]
    },
    {
      "cell_type": "markdown",
      "metadata": {
        "id": "8YBQzTCMPaGJ"
      },
      "source": [
        "Preprocessing the test set"
      ]
    },
    {
      "cell_type": "code",
      "execution_count": 22,
      "metadata": {
        "colab": {
          "base_uri": "https://localhost:8080/"
        },
        "id": "V0QjBYqAPZhs",
        "outputId": "023a4df9-2b32-4556-c25e-d893d7669371"
      },
      "outputs": [
        {
          "name": "stdout",
          "output_type": "stream",
          "text": [
            "Convert the claim text into tokens...\n",
            "Converting claim text to indices list\n",
            "Converting the claims to tensor after truncating\n",
            "Padding the claims to maximum length\n"
          ]
        }
      ],
      "source": [
        "test_claim_data_path = \"/content/drive/MyDrive/nlp_project/data/test-claims-unlabelled.json\"\n",
        "test_claim_data = load_data(test_claim_data_path)\n",
        "test_claims_padded = preprocess_test(test_claim_data,max_padding_length_train_claims)\n",
        "test_claim_id_index = {claim_id:index for index, claim_id in enumerate(test_claim_data)}"
      ]
    },
    {
      "cell_type": "markdown",
      "metadata": {
        "id": "6e1Imz4APdDU"
      },
      "source": [
        "Evaluating the test set"
      ]
    },
    {
      "cell_type": "code",
      "execution_count": 23,
      "metadata": {
        "colab": {
          "base_uri": "https://localhost:8080/",
          "height": 17
        },
        "id": "x2mXAphkPg4J",
        "outputId": "b649c613-da64-4a6a-e9e2-badb9bb254d5"
      },
      "outputs": [
        {
          "data": {
            "application/javascript": "\n    async function download(id, filename, size) {\n      if (!google.colab.kernel.accessAllowed) {\n        return;\n      }\n      const div = document.createElement('div');\n      const label = document.createElement('label');\n      label.textContent = `Downloading \"${filename}\": `;\n      div.appendChild(label);\n      const progress = document.createElement('progress');\n      progress.max = size;\n      div.appendChild(progress);\n      document.body.appendChild(div);\n\n      const buffers = [];\n      let downloaded = 0;\n\n      const channel = await google.colab.kernel.comms.open(id);\n      // Send a message to notify the kernel that we're ready.\n      channel.send({})\n\n      for await (const message of channel.messages) {\n        // Send a message to notify the kernel that we're ready.\n        channel.send({})\n        if (message.buffers) {\n          for (const buffer of message.buffers) {\n            buffers.push(buffer);\n            downloaded += buffer.byteLength;\n            progress.value = downloaded;\n          }\n        }\n      }\n      const blob = new Blob(buffers, {type: 'application/binary'});\n      const a = document.createElement('a');\n      a.href = window.URL.createObjectURL(blob);\n      a.download = filename;\n      div.appendChild(a);\n      a.click();\n      div.remove();\n    }\n  ",
            "text/plain": [
              "<IPython.core.display.Javascript object>"
            ]
          },
          "metadata": {},
          "output_type": "display_data"
        },
        {
          "data": {
            "application/javascript": "download(\"download_367f50d9-0718-4f30-99a0-009a6ad9afb2\", \"test-result.json\", 42442)",
            "text/plain": [
              "<IPython.core.display.Javascript object>"
            ]
          },
          "metadata": {},
          "output_type": "display_data"
        }
      ],
      "source": [
        "model_evaluate_test(model,test_claim_data,test_claims_padded)"
      ]
    }
  ],
  "metadata": {
    "accelerator": "GPU",
    "colab": {
      "gpuType": "T4",
      "provenance": []
    },
    "kernelspec": {
      "display_name": "Python 3",
      "name": "python3"
    },
    "language_info": {
      "codemirror_mode": {
        "name": "ipython",
        "version": 3
      },
      "file_extension": ".py",
      "mimetype": "text/x-python",
      "name": "python",
      "nbconvert_exporter": "python",
      "pygments_lexer": "ipython3",
      "version": "3.11.3"
    }
  },
  "nbformat": 4,
  "nbformat_minor": 0
}
